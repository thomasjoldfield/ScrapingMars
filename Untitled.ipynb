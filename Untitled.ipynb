{
 "cells": [
  {
   "cell_type": "code",
   "execution_count": 4,
   "metadata": {},
   "outputs": [
    {
     "name": "stdout",
     "output_type": "stream",
     "text": [
      "/spaceimages/images/mediumsize/PIA19083_ip.jpg\n"
     ]
    },
    {
     "data": {
      "text/plain": [
       "'\\nfeatured_image_url = \"https://www.jpl.nasa.gov\" + image_ext\\n#image_link = image_soup.find(\"img\", class_=\"fancybox-inner\")\\nprint(featured_image_url)\\nimage_dict = {\"featured_image\" : featured_image_url}'"
      ]
     },
     "execution_count": 4,
     "metadata": {},
     "output_type": "execute_result"
    }
   ],
   "source": [
    "#import splinter, etc\n",
    "from bs4 import BeautifulSoup\n",
    "import requests\n",
    "import pymongo\n",
    "import time\n",
    "\n",
    "from splinter import Browser\n",
    "executable_path = {'executable_path': 'chromedriver.exe'}\n",
    "browser = Browser('chrome', **executable_path, headless=False)\n",
    "\n",
    "#go to the URL\n",
    "url = \"https://www.jpl.nasa.gov/spaceimages/?search=&category=Mars\"\n",
    "browser.visit(url)\n",
    "\n",
    "#Navigate to the full image\n",
    "browser.click_link_by_partial_text('FULL IMAGE')\n",
    "time.sleep(5)\n",
    "\n",
    "#soup it up\n",
    "image_html = browser.html\n",
    "\n",
    "image_soup = BeautifulSoup(image_html, 'html.parser')\n",
    "\n",
    "image_ext = image_soup.find('img', {'class': 'fancybox-image'})['src']\n",
    "\n",
    "print(image_ext)\n",
    "\n",
    "'''\n",
    "featured_image_url = \"https://www.jpl.nasa.gov\" + image_ext\n",
    "#image_link = image_soup.find(\"img\", class_=\"fancybox-inner\")\n",
    "print(featured_image_url)\n",
    "image_dict = {\"featured_image\" : featured_image_url}'''"
   ]
  },
  {
   "cell_type": "code",
   "execution_count": null,
   "metadata": {},
   "outputs": [],
   "source": []
  }
 ],
 "metadata": {
  "kernelspec": {
   "display_name": "Python 3",
   "language": "python",
   "name": "python3"
  },
  "language_info": {
   "codemirror_mode": {
    "name": "ipython",
    "version": 3
   },
   "file_extension": ".py",
   "mimetype": "text/x-python",
   "name": "python",
   "nbconvert_exporter": "python",
   "pygments_lexer": "ipython3",
   "version": "3.6.4"
  }
 },
 "nbformat": 4,
 "nbformat_minor": 2
}
